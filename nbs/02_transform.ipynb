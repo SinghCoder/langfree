{
 "cells": [
  {
   "cell_type": "markdown",
   "id": "4a573de2-34fe-4fdc-a5c7-7018318f167a",
   "metadata": {},
   "source": [
    "# transform\n",
    "\n",
    "> common transformations for LLM data"
   ]
  },
  {
   "cell_type": "code",
   "execution_count": null,
   "id": "d1851b3f-5b38-4d50-8f61-c3fe0d54f089",
   "metadata": {},
   "outputs": [],
   "source": [
    "#| default_exp transform"
   ]
  },
  {
   "cell_type": "code",
   "execution_count": null,
   "id": "279d65a5-c571-4341-b690-39ca2721fcfc",
   "metadata": {},
   "outputs": [],
   "source": [
    "#|export\n",
    "import os, copy, json\n",
    "import openai, langsmith\n",
    "from typing import List, Callable\n",
    "from random import shuffle\n",
    "from collections import defaultdict\n",
    "\n",
    "from pydantic import BaseModel\n",
    "from langchain.adapters import openai as adapt\n",
    "from langchain.load import load\n",
    "from fastcore.foundation import L\n",
    "from tenacity import (\n",
    "    retry,\n",
    "    stop_after_attempt,\n",
    "    wait_random_exponential,\n",
    ")  # for exponential backoff"
   ]
  },
  {
   "cell_type": "code",
   "execution_count": null,
   "id": "7b1248be-3d29-434e-9fc2-7e344d37d22f",
   "metadata": {},
   "outputs": [],
   "source": [
    "#|exports\n",
    "@retry(wait=wait_random_exponential(min=1, max=60), stop=stop_after_attempt(6))\n",
    "def chat(**kwargs):\n",
    "    \"A wrapper around `openai.ChatCompletion` that has automatic retries.\" \n",
    "    return openai.ChatCompletion.create(**kwargs)"
   ]
  },
  {
   "cell_type": "code",
   "execution_count": null,
   "id": "991cdff3-e099-4e70-b9f9-1fb1b169bf2b",
   "metadata": {},
   "outputs": [],
   "source": [
    "#|export\n",
    "def rephrase(sentence, max_tokens=100, temperature=0.95):\n",
    "    \"Rephrase a sentence. Useful for data augmentation for finetuning.\"\n",
    "    openai.api_key = os.environ['OPENAI_API_KEY']\n",
    "    response = chat(\n",
    "        temperature=temperature,\n",
    "        max_tokens=max_tokens,\n",
    "        model=\"gpt-4\", \n",
    "        messages=[\n",
    "         {\"role\": \"system\", \"content\": \"You are a helpful assistant.\"},\n",
    "         {\"role\": \"user\", \"content\": f\"Rephrase the following sentence in one short sentence: {sentence}\"}\n",
    "        ]\n",
    "    )\n",
    "    return response.choices[0]['message']['content'].strip()"
   ]
  },
  {
   "cell_type": "code",
   "execution_count": null,
   "id": "baa4a3ed-16f0-4ed4-ae93-f8668c786b50",
   "metadata": {},
   "outputs": [
    {
     "name": "stdout",
     "output_type": "stream",
     "text": [
      "Email example@gmail.com to inquire about rescheduling the appointment to Friday.\n"
     ]
    }
   ],
   "source": [
    "#|eval: false\n",
    "_phrase = 'Write an email to example@gmail.com asking if we can move the appointment to friday'\n",
    "print(rephrase(_phrase))"
   ]
  },
  {
   "cell_type": "code",
   "execution_count": null,
   "id": "7e5b23b2-40f2-402b-84c8-682bde5adc73",
   "metadata": {},
   "outputs": [],
   "source": [
    "#|export\n",
    "def _gen_name():\n",
    "    \"Generate a random name\"\n",
    "    openai.api_key = os.environ['OPENAI_API_KEY']\n",
    "    response = chat(\n",
    "        temperature=1.9,\n",
    "        max_tokens=4,\n",
    "        model=\"gpt-3.5-turbo\", \n",
    "        messages=[\n",
    "         {\"role\": \"system\", \"content\": \"You are a helpful assistant.\"},\n",
    "         {\"role\": \"user\", \"content\": f\"Imagine a full name for a person. Only return a first and last name.\"}\n",
    "        ]\n",
    "    )\n",
    "    return response.choices[0]['message']['content'].strip().replace('.', '')\n",
    "\n",
    "def gen_name():\n",
    "    \"Generate a random name\"\n",
    "    while True:\n",
    "        nm = _gen_name()\n",
    "        if len(nm) <= 18:\n",
    "            return nm"
   ]
  },
  {
   "cell_type": "code",
   "execution_count": null,
   "id": "1599f396-73b6-4a89-941f-c4682ee52627",
   "metadata": {},
   "outputs": [
    {
     "name": "stdout",
     "output_type": "stream",
     "text": [
      "Julian Michaels\n",
      "Elsa Cormack\n",
      "Edward Lopez\n"
     ]
    }
   ],
   "source": [
    "#|eval:false\n",
    "for i in range(3):\n",
    "    print(gen_name())"
   ]
  },
  {
   "cell_type": "code",
   "execution_count": null,
   "id": "7663a851-03a2-4f3d-8c58-2d5cc613ec26",
   "metadata": {},
   "outputs": [],
   "source": [
    "#|export\n",
    "def fetch_run_componets(run_id:str):\n",
    "    \"Return the `inputs`, `output` and `funcs` for a run.\"\n",
    "    client = langsmith.Client()\n",
    "    run = client.read_run(run_id)\n",
    "    output = adapt.convert_message_to_dict(load(run.outputs['generations'][0]['message']))\n",
    "    inputs = [adapt.convert_message_to_dict(load(m)) for m in run.inputs['messages']]\n",
    "    for inp in inputs:\n",
    "        if 'function_call' in inp and inp.get('content', None) is None:\n",
    "            del inp['content']\n",
    "    funcs = run.extra['invocation_params'][\"functions\"]\n",
    "    return inputs, output, funcs"
   ]
  },
  {
   "cell_type": "code",
   "execution_count": null,
   "id": "2955d7b5-491f-4f93-9a0c-9cdbcba55000",
   "metadata": {},
   "outputs": [],
   "source": [
    "_run_id = '59080971-8786-4849-be88-898d3ffc2b45'\n",
    "_inputs, _output, _funcs = fetch_run_componets(_run_id)"
   ]
  },
  {
   "cell_type": "code",
   "execution_count": null,
   "id": "db3deda0-b415-4683-9f5b-fc340f80c84f",
   "metadata": {},
   "outputs": [],
   "source": [
    "#|exports\n",
    "class RunData(BaseModel):\n",
    "    \"Key components of a run from LangSmith\"\n",
    "    inputs:List[dict]\n",
    "    output:dict\n",
    "    funcs:List[dict] \n",
    "    run_id:str"
   ]
  },
  {
   "cell_type": "code",
   "execution_count": null,
   "id": "5ac11575-d3dc-4406-87a2-aa0bd786898d",
   "metadata": {},
   "outputs": [],
   "source": [
    "#|exports\n",
    "def _collate(cbdata:RunData, \n",
    "             callback:callable=None) -> dict:\n",
    "    \"Allow a callback to mutate `inputs`, `output`, and `funcs` and construct a dataset for fine tuning.\"\n",
    "    if callback: cbdata = callback(cbdata)\n",
    "    msgs = cbdata.inputs + [cbdata.output]\n",
    "    return {\"functions\": cbdata.funcs,\n",
    "            \"messages\": msgs}"
   ]
  },
  {
   "cell_type": "code",
   "execution_count": null,
   "id": "7a2ffb59-81b4-44be-9795-f4e3c20823c1",
   "metadata": {},
   "outputs": [],
   "source": [
    "#|exports\n",
    "def collate(run_id:str, callback:Callable[[RunData], RunData]=None) -> dict:\n",
    "    \"Allow a callback to mutate a run for fine tuning.\"\n",
    "    i,o,f = fetch_run_componets(run_id)\n",
    "    cbdata = RunData(inputs=i, output=o, funcs=f, run_id=run_id)\n",
    "    return _collate(cbdata, callback)"
   ]
  },
  {
   "cell_type": "code",
   "execution_count": null,
   "id": "5df56149-2d72-4d73-8910-d531547fc72f",
   "metadata": {},
   "outputs": [],
   "source": [
    "_tst_run = collate(_run_id)\n",
    "assert 'functions' in _tst_run and 'messages' in _tst_run"
   ]
  },
  {
   "cell_type": "markdown",
   "id": "ebe02728-3a3c-4008-8e41-34102078bd83",
   "metadata": {},
   "source": [
    "## Example Transformation Callbacks"
   ]
  },
  {
   "cell_type": "code",
   "execution_count": null,
   "id": "7ed3a71b-3bac-48e9-90be-3b739acd46a6",
   "metadata": {},
   "outputs": [],
   "source": [
    "#| export\n",
    "def _sub_name_in_func(funcs, name):\n",
    "    \"Substitute 'Unit Test' for `name` in the `email-campaign-creator` function\"\n",
    "    emailfunc = L(funcs).filter(lambda x: x['name'] == 'email-campaign-creator')\n",
    "    if emailfunc:\n",
    "        func = emailfunc[0]\n",
    "        desc = func['parameters']['properties']['body']['description']\n",
    "        new_desc = desc.replace('Unit Test', name)\n",
    "        func['parameters']['properties']['body']['description'] = new_desc\n",
    "    return funcs"
   ]
  },
  {
   "cell_type": "code",
   "execution_count": null,
   "id": "c3cbd8e4-7604-40d0-8cf6-e59e901e742f",
   "metadata": {},
   "outputs": [],
   "source": [
    "#|hide\n",
    "_testfuncs = _sub_name_in_func(_funcs, name='Hamel Husain')\n",
    "assert 'Hamel' in L(_testfuncs).filter(lambda x: x['name'] == 'email-campaign-creator')[0]['parameters']['properties']['body']['description']"
   ]
  },
  {
   "cell_type": "code",
   "execution_count": null,
   "id": "496fc492-6c7c-4c1d-8bdc-66aa99d9591e",
   "metadata": {},
   "outputs": [],
   "source": [
    "#| export\n",
    "def _sub_name_in_output(output, name):\n",
    "    \"Subtitute `[Your Name]` with `name` in the output.\"\n",
    "    output['content'] = output['content'].replace('[Your Name]', name)\n",
    "    return output"
   ]
  },
  {
   "cell_type": "code",
   "execution_count": null,
   "id": "c655e9d4-9f9a-402f-9bac-045186ba35d8",
   "metadata": {},
   "outputs": [],
   "source": [
    "#|hide\n",
    "_out = _sub_name_in_output(output=_output, name='Hamel')\n",
    "assert 'Hamel' in _out['content']"
   ]
  },
  {
   "cell_type": "code",
   "execution_count": null,
   "id": "53c3de33-8304-4019-b417-ade208fb1f9c",
   "metadata": {},
   "outputs": [],
   "source": [
    "#| export\n",
    "def _reword_input(inputs):\n",
    "    \"Rephrase the first human input.\"\n",
    "    copy_inputs = copy.deepcopy(inputs)\n",
    "    for inp in copy_inputs:\n",
    "        if inp['role'] == 'user': \n",
    "            inp['content'] = rephrase(inp['content'])\n",
    "            print(f\"rephrased input as: {inp['content']}\")\n",
    "            break\n",
    "    return copy_inputs"
   ]
  },
  {
   "cell_type": "code",
   "execution_count": null,
   "id": "3c81cc24-08bf-4c00-885b-679f8497614a",
   "metadata": {},
   "outputs": [
    {
     "name": "stdout",
     "output_type": "stream",
     "text": [
      "rephrased input as: Implement email marketing for 2430 Victory Park Lane, Dallas TX.\n"
     ]
    }
   ],
   "source": [
    "#|hide\n",
    "_tst_inp = _reword_input(_inputs)\n",
    "assert _tst_inp[1]['content'] != _inputs[1]['content']"
   ]
  },
  {
   "cell_type": "code",
   "execution_count": null,
   "id": "4c2807ca-3f61-469a-8d44-bb1ec4c2805a",
   "metadata": {},
   "outputs": [],
   "source": [
    "#|exports\n",
    "def tsfm_nm_rephrase(rundata:RunData, \n",
    "                     name=None) -> RunData:\n",
    "    \"An callback to be used with `collate` that substitutes names and rephrases the language model input.\"\n",
    "    if name is None: name=gen_name()                    # generates a random name to be used to substitute a boilerplate name\n",
    "    print(f'Substituting name: {name}')\n",
    "    inputs = _reword_input(rundata.inputs)              # rephrases the input to the language model\n",
    "    output = _sub_name_in_output(rundata.output, name)  # substitutes the template `[Your Name]` with `name` in the output of the language model\n",
    "    funcs = _sub_name_in_func(rundata.funcs, name)      # substitutes the template `[Your Name]` with `name` in the a function schema description\n",
    "    tsfm_rundata = RunData(inputs=inputs, output=output, funcs=funcs, run_id=rundata.run_id)\n",
    "    return tsfm_rundata"
   ]
  },
  {
   "cell_type": "markdown",
   "id": "25fbd04d-6f15-4ed9-ab02-92d949dcbfa9",
   "metadata": {},
   "source": [
    "In the below example, `[Your name]` is being substituted with an actual name:"
   ]
  },
  {
   "cell_type": "code",
   "execution_count": null,
   "id": "8146de36-3ecb-460a-b0e0-f1a2ca00351c",
   "metadata": {},
   "outputs": [
    {
     "name": "stdout",
     "output_type": "stream",
     "text": [
      "Substituting name: Desmond Price\n",
      "rephrased input as: Implement email marketing for 2430 Victory Park Lane, Dallas TX.\n"
     ]
    }
   ],
   "source": [
    "_orig = collate(_run_id)\n",
    "_tsfm = collate(_run_id, tsfm_nm_rephrase)\n",
    "assert 'Your Name' not in _tsfm['messages'][-1]  # verify that `[Your Name]` is not present\n",
    "assert _orig['messages'][1]['content'] != _tsfm['messages'][1]['content']  # make sure the message is different afer substitution"
   ]
  },
  {
   "cell_type": "markdown",
   "id": "550a1b22-b51c-4ae5-a2d5-6ab935e9e1ee",
   "metadata": {},
   "source": [
    "### Write to jsonl\n",
    "\n",
    "OpenAI fine-tuning takes jsonl files."
   ]
  },
  {
   "cell_type": "code",
   "execution_count": null,
   "id": "bcb6ce23-c8bb-47c4-b4b8-314666f82021",
   "metadata": {},
   "outputs": [],
   "source": [
    "#|export\n",
    "def write_to_jsonl(data_list:List[dict], filename:str):\n",
    "    \"\"\"\n",
    "    Writes a list of dictionaries to a .jsonl file.\n",
    "    \n",
    "    Parameters:\n",
    "    - data_list (list of dicts): The data to be written.\n",
    "    - filename (str): The name of the output file.\n",
    "    \"\"\"\n",
    "    shuffle(data_list)\n",
    "    with open(filename, 'w') as f:\n",
    "        for entry in data_list:\n",
    "            json_str = json.dumps(entry)\n",
    "            f.write(f\"{json_str}\\n\")"
   ]
  },
  {
   "cell_type": "code",
   "execution_count": null,
   "id": "5144d12d-3f90-471d-a503-045832c9d552",
   "metadata": {},
   "outputs": [],
   "source": [
    "#|eval:false\n",
    "# _runs = ['59080971-8786-4849-be88-898d3ffc2b45', '8cd7deed-9547-4a07-ac01-55e9513ca1cd']\n",
    "# _tsfm_runs = [collate(rid, tsfm_nm_rephrase) for rid in _runs];\n",
    "# write_to_jsonl(_tsfm_runs, '_data/test_data.jsonl');"
   ]
  },
  {
   "cell_type": "markdown",
   "id": "4c9b3cd8-f7f7-4b24-90de-10505c118be8",
   "metadata": {},
   "source": [
    "### Validate jsonl"
   ]
  },
  {
   "cell_type": "code",
   "execution_count": null,
   "id": "94a60ed0-a3c9-4220-95f7-bb168fb650ca",
   "metadata": {},
   "outputs": [],
   "source": [
    "#|export\n",
    "def validate_jsonl(fname):\n",
    "    \"Code is modified from https://cookbook.openai.com/examples/chat_finetuning_data_prep, but updated for function calling.\"\n",
    "    # Load the dataset\n",
    "    with open(fname, 'r', encoding='utf-8') as f:\n",
    "        dataset = [json.loads(line) for line in f]\n",
    "\n",
    "    # Initial dataset stats\n",
    "    print(\"Num examples:\", len(dataset))\n",
    "        \n",
    "    # Format error checks\n",
    "    format_errors = defaultdict(int)\n",
    "\n",
    "    for i, ex in enumerate(dataset):\n",
    "        if not isinstance(ex, dict):\n",
    "            format_errors[\"data_type\"] += 1\n",
    "            continue\n",
    "\n",
    "        messages = ex.get(\"messages\", None)\n",
    "        if not messages:\n",
    "            format_errors[\"missing_messages_list\"] += 1\n",
    "            continue\n",
    "\n",
    "        for im, message in enumerate(messages):\n",
    "            if \"role\" not in message or (\"content\" not in message and 'function_call' not in message):\n",
    "                format_errors[\"message_missing_key\"] += 1\n",
    "\n",
    "            if any(k not in (\"role\", \"content\", \"name\", \"function_call\") for k in message):\n",
    "                format_errors[\"message_unrecognized_key\"] += 1\n",
    "                print(f'message_unrecognized_key {[k for k in message.keys() if k not in [\"role\", \"content\", \"name\"]]} in row:{i} message {im}')\n",
    "\n",
    "            if message.get(\"role\", None) not in (\"system\", \"user\", \"assistant\", \"function\"):\n",
    "                format_errors[\"unrecognized_role\"] += 1\n",
    "                print(f'unrecognized_role {message.get(\"role\", None)} in row:{i} message {im}')\n",
    "\n",
    "            content = message.get(\"content\", None)\n",
    "            if (not content or not isinstance(content, str)) and 'function_call' not in message:\n",
    "                format_errors[\"missing_content\"] += 1\n",
    "                print(f'missing_content in row:{i} message {im}')\n",
    "\n",
    "        if not any(message.get(\"role\", None) == \"assistant\" for message in messages):\n",
    "            format_errors[\"example_missing_assistant_message\"] += 1\n",
    "\n",
    "    if format_errors:\n",
    "        print(\"Found errors:\")\n",
    "        for k, v in format_errors.items():\n",
    "            print(f\"{k}: {v}\")\n",
    "    else:\n",
    "        print(\"No errors found\")"
   ]
  },
  {
   "cell_type": "code",
   "execution_count": null,
   "id": "223f8f01-1787-401b-9db7-d0657ec6af85",
   "metadata": {},
   "outputs": [
    {
     "name": "stdout",
     "output_type": "stream",
     "text": [
      "Num examples: 2\n",
      "No errors found\n"
     ]
    }
   ],
   "source": [
    "#|eval: false\n",
    "validate_jsonl('_data/test_data.jsonl')"
   ]
  },
  {
   "cell_type": "code",
   "execution_count": null,
   "id": "90662f53-de19-4032-a9ac-80fdacb78509",
   "metadata": {},
   "outputs": [],
   "source": [
    "#| hide\n",
    "import nbdev; nbdev.nbdev_export()"
   ]
  },
  {
   "cell_type": "code",
   "execution_count": null,
   "id": "7dc86a80-b68f-4ed5-9bbf-790b9dbe92b5",
   "metadata": {},
   "outputs": [],
   "source": []
  },
  {
   "cell_type": "code",
   "execution_count": null,
   "id": "27e889d4-78cf-47de-8404-8b9dc409860d",
   "metadata": {},
   "outputs": [],
   "source": []
  }
 ],
 "metadata": {
  "kernelspec": {
   "display_name": "python3",
   "language": "python",
   "name": "python3"
  }
 },
 "nbformat": 4,
 "nbformat_minor": 5
}
