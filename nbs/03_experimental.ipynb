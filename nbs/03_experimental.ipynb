{
 "cells": [
  {
   "cell_type": "markdown",
   "id": "961f54c1-8eae-4ffa-af08-584e8612d198",
   "metadata": {},
   "source": [
    "# experimental\n",
    "> Tools for exporting parts of Langchain runs in a very opinionated way."
   ]
  },
  {
   "cell_type": "code",
   "execution_count": null,
   "id": "38c02c61-7fe1-4dbc-b74c-bf11a64ca9e7",
   "metadata": {},
   "outputs": [],
   "source": [
    "#| default_exp experimental"
   ]
  },
  {
   "cell_type": "code",
   "execution_count": null,
   "id": "65cd47cc-3f52-4cfc-9efb-4dc6a6c61993",
   "metadata": {},
   "outputs": [],
   "source": [
    "#|export\n",
    "from typing import List, Iterable, Union\n",
    "from collections import Counter\n",
    "from pathlib import Path\n",
    "import pickle\n",
    "\n",
    "import pandas as pd\n",
    "from pydantic import BaseModel\n",
    "import langsmith\n",
    "from fastcore.foundation import first, L\n",
    "from fastcore.test import test_eq\n",
    "from langfree.runs import (get_runs_by_commit, get_output, get_input, \n",
    "                           get_params, get_functions,\n",
    "                          get_feedback, take)\n",
    "from langfree.transform import RunData\n",
    "from langsmith import Client"
   ]
  },
  {
   "cell_type": "code",
   "execution_count": null,
   "id": "2909e32e-3066-4e9e-877b-d87b6f35211f",
   "metadata": {},
   "outputs": [],
   "source": [
    "from nbdev.showdoc import show_doc"
   ]
  },
  {
   "cell_type": "code",
   "execution_count": null,
   "id": "c7012b46-4c1b-442f-9d11-d6e2fc69c9d8",
   "metadata": {},
   "outputs": [],
   "source": [
    "#|export\n",
    "class ChatRecord(BaseModel):\n",
    "    \"A parsed run from LangSmith, focused on the `ChatOpenAI` run type.\"\n",
    "    child_run_id:str\n",
    "    parent_run_id:str\n",
    "    child_run:RunData\n",
    "    url: str\n",
    "    total_tokens:Union[int, None]\n",
    "    prompt_tokens:Union[int, None]\n",
    "    completion_tokens:Union[int, None]\n",
    "    feedback: Union[List,None] = None\n",
    "    feedback_keys: Union[List,None] = None\n",
    "    tags: Union[List,None] = []\n",
    "    start_dt: Union[str, None] = None\n",
    "    parent_url: Union[str,None] = None\n",
    "    parent_id: Union[str,None] = None\n",
    "    function_defs: Union[List,None] = None\n",
    "    param_model_name: Union[str,None]= None\n",
    "    param_n: Union[int, None] = None\n",
    "    param_top_p: Union[int, None] = None\n",
    "    param_temp: Union[int, None] = None\n",
    "    param_presence_penalty: Union[int, None] = None\n",
    "    param_freq_penalty: Union[int, None] = None\n",
    "    warnings: List[str] = []\n",
    "\n",
    "    @property\n",
    "    def flat_input(self): return self.child_run.flat_input\n",
    "    \n",
    "    @property\n",
    "    def flat_output(self): return self.child_run.flat_output\n",
    "\n",
    "    @classmethod\n",
    "    def from_run_id(cls, \n",
    "                    run_id:str # the run id to fetch and parse.\n",
    "                   ):\n",
    "        \"Collect information About A Run into a `ChatRecord`.\"\n",
    "        client = Client()\n",
    "        return cls.from_run(client.read_run(run_id=run_id))\n",
    "    \n",
    "    @classmethod\n",
    "    def from_run(cls, \n",
    "                 run:langsmith.schemas.Run # the run object to parse.\n",
    "                ):\n",
    "        \"Collect information About A Run into a `ChatRecord`.\"\n",
    "        client = Client()\n",
    "        warnings = []\n",
    "        if run.execution_order != 1: # this is a child run, get the parent\n",
    "            run = client.read_run(run.parent_run_id)\n",
    "            \n",
    "        _cruns = client.read_run(run_id=run.id, load_child_runs=True).child_runs\n",
    "        crun = None\n",
    "        if _cruns:\n",
    "            if _cruns[-1].name != 'ChatOpenAI': \n",
    "                warnings.append('Last Step Not ChatOpenAI')\n",
    "            crun = [c for c in _cruns if c.name == 'ChatOpenAI'][-1]\n",
    "    \n",
    "        if crun:\n",
    "            _input, _output = get_input(crun), get_output(crun)      \n",
    "            if 'Agent stopped due to max iterations' in _input: warnings.append('Max Iterations')\n",
    "            if _output.strip() == '': warnings.append('No Output')\n",
    "            \n",
    "            params = get_params(crun)\n",
    "            _feedback = get_feedback(run) # you must get feedback from the root\n",
    "            \n",
    "            return cls(child_run_id=str(crun.id),\n",
    "                       parent_run_id=str(run.id),\n",
    "                       child_run=RunData.from_run_id(str(crun.id)),\n",
    "                       url=crun.url,\n",
    "                       total_tokens=crun.total_tokens,\n",
    "                       prompt_tokens=crun.prompt_tokens,\n",
    "                       completion_tokens=crun.completion_tokens,\n",
    "                       feedback=_feedback, \n",
    "                       feedback_keys=list(L(_feedback).attrgot('key').filter()),\n",
    "                       tags=run.tags,\n",
    "                       start_dt=run.start_time.strftime('%m/%d/%Y'),\n",
    "                       parent_url=run.url if run else None,\n",
    "                       parent_id=str(run.id) if run else None,\n",
    "                       function_defs=get_functions(crun),\n",
    "                       warnings=warnings,\n",
    "                       **params)"
   ]
  },
  {
   "cell_type": "markdown",
   "id": "10d1284f-790a-409b-a3aa-f4ff41a3dac7",
   "metadata": {},
   "source": [
    "When instantiating `ChatRecord` with the class methods `ChatRecord.from_run` or `ChatRecord.from_run_id`, we automatically query the parent run of the LangChain trace in LangSmith to get metadata like feedback.  Additionally, if you instantiate `ChatRecord` with a root run or a run that is not a `ChatOpenAI` run type, `ChatRecord` will attempt to find the last `ChatOpenAI` in your chain and store the id in `ChatRecord.child_run_id`.  The data for this child run (inputs, outputs, functions) is stored in `ChatRecord.child_run` and is of type `RunData`."
   ]
  },
  {
   "cell_type": "code",
   "execution_count": null,
   "id": "57127967-b38c-421b-b8ce-6bff1339cf8d",
   "metadata": {},
   "outputs": [
    {
     "data": {
      "text/markdown": [
       "---\n",
       "\n",
       "[source](https://github.com/parlance-labs/langfree/blob/main/langfree/experimental.py#L60){target=\"_blank\" style=\"float:right; font-size:smaller\"}\n",
       "\n",
       "#### ChatRecord.from_run\n",
       "\n",
       ">      ChatRecord.from_run (run:langsmith.schemas.Run)\n",
       "\n",
       "Collect information About A Run into a `ChatRecord`.\n",
       "\n",
       "|    | **Type** | **Details** |\n",
       "| -- | -------- | ----------- |\n",
       "| run | Run | the run object to parse. |"
      ],
      "text/plain": [
       "---\n",
       "\n",
       "[source](https://github.com/parlance-labs/langfree/blob/main/langfree/experimental.py#L60){target=\"_blank\" style=\"float:right; font-size:smaller\"}\n",
       "\n",
       "#### ChatRecord.from_run\n",
       "\n",
       ">      ChatRecord.from_run (run:langsmith.schemas.Run)\n",
       "\n",
       "Collect information About A Run into a `ChatRecord`.\n",
       "\n",
       "|    | **Type** | **Details** |\n",
       "| -- | -------- | ----------- |\n",
       "| run | Run | the run object to parse. |"
      ]
     },
     "execution_count": null,
     "metadata": {},
     "output_type": "execute_result"
    }
   ],
   "source": [
    "show_doc(ChatRecord.from_run, title_level=4)"
   ]
  },
  {
   "cell_type": "code",
   "execution_count": null,
   "id": "43efaf24-b2db-41c2-983d-017a9167b862",
   "metadata": {},
   "outputs": [],
   "source": [
    "client = Client()\n",
    "_root_run = client.read_run('fbfd220a-c731-46a2-87b3-e64a477824f5')\n",
    "_root_result = ChatRecord.from_run(_root_run)"
   ]
  },
  {
   "cell_type": "code",
   "execution_count": null,
   "id": "008ae7c8-cb53-4308-8708-7535d14a223d",
   "metadata": {},
   "outputs": [
    {
     "data": {
      "text/markdown": [
       "---\n",
       "\n",
       "[source](https://github.com/parlance-labs/langfree/blob/main/langfree/experimental.py#L55){target=\"_blank\" style=\"float:right; font-size:smaller\"}\n",
       "\n",
       "#### ChatRecord.from_run_id\n",
       "\n",
       ">      ChatRecord.from_run_id (run_id:str)\n",
       "\n",
       "Collect information About A Run into a `ChatRecord`.\n",
       "\n",
       "|    | **Type** | **Details** |\n",
       "| -- | -------- | ----------- |\n",
       "| run_id | str | the run id to fetch and parse. |"
      ],
      "text/plain": [
       "---\n",
       "\n",
       "[source](https://github.com/parlance-labs/langfree/blob/main/langfree/experimental.py#L55){target=\"_blank\" style=\"float:right; font-size:smaller\"}\n",
       "\n",
       "#### ChatRecord.from_run_id\n",
       "\n",
       ">      ChatRecord.from_run_id (run_id:str)\n",
       "\n",
       "Collect information About A Run into a `ChatRecord`.\n",
       "\n",
       "|    | **Type** | **Details** |\n",
       "| -- | -------- | ----------- |\n",
       "| run_id | str | the run id to fetch and parse. |"
      ]
     },
     "execution_count": null,
     "metadata": {},
     "output_type": "execute_result"
    }
   ],
   "source": [
    "show_doc(ChatRecord.from_run_id, title_level=4)"
   ]
  },
  {
   "cell_type": "code",
   "execution_count": null,
   "id": "b300ab30-6d4d-474a-a5b6-b14b59fefe59",
   "metadata": {},
   "outputs": [],
   "source": [
    "_child_run_id = str(_root_run.child_run_ids[-1])\n",
    "_child_result = ChatRecord.from_run_id(_child_run_id)"
   ]
  },
  {
   "cell_type": "markdown",
   "id": "d6d69caa-58fd-419b-b81a-72a5c492ba56",
   "metadata": {},
   "source": [
    "Tests"
   ]
  },
  {
   "cell_type": "code",
   "execution_count": null,
   "id": "fd718377-5738-4179-9708-0bcf0d0108e2",
   "metadata": {},
   "outputs": [],
   "source": [
    "# test that child and root runs are related\n",
    "test_eq(_root_result.flat_output, _child_result.flat_output)\n",
    "test_eq(_root_result.parent_run_id, _child_result.parent_run_id)\n",
    "\n",
    "# Test case without feedback\n",
    "_parent_run_no_feedback = client.read_run('87900cfc-0322-48fb-b009-33d226d73597')\n",
    "_no_feedback = ChatRecord.from_run(_parent_run_no_feedback)\n",
    "test_eq(_no_feedback.feedback, [])\n",
    "\n",
    "# Test case with feedback\n",
    "\n",
    "#  ... starting with a child run\n",
    "_child_w_feedback = client.read_run('f8717b0e-fb90-45cd-be00-9b4614965a2e')\n",
    "_feedback = ChatRecord.from_run(_child_w_feedback).feedback\n",
    "assert _feedback[0]['key'] == 'Empty Response'\n",
    "\n",
    "# #  ... starting with a parent run\n",
    "_parent_w_feedback = client.read_run(_child_w_feedback.parent_run_id)\n",
    "_feedback2 = ChatRecord.from_run(_parent_w_feedback).feedback\n",
    "test_eq(_feedback[0]['comment'],  _feedback2[0]['comment'])"
   ]
  },
  {
   "cell_type": "markdown",
   "id": "5c9b0e08-f640-441c-b825-da25f0f747ff",
   "metadata": {},
   "source": [
    "## Saving & Loading A Dataset of `ChatRecord`"
   ]
  },
  {
   "cell_type": "code",
   "execution_count": null,
   "id": "cc7563fc-b096-4f4f-ad6a-2fcf00485d44",
   "metadata": {},
   "outputs": [],
   "source": [
    "#|export\n",
    "class ChatRecordSet(BaseModel):\n",
    "    \"A List of `ChatRecord`.\"\n",
    "    records: List[ChatRecord]\n",
    "    \n",
    "    @classmethod\n",
    "    def from_commit(cls, commit_id:str):\n",
    "        \"Create a `LLMDataset` from a commit id\"\n",
    "        _runs = get_runs_by_commit(commit_id=commit_id)\n",
    "        return cls.from_runs(_runs)\n",
    "    \n",
    "    @classmethod\n",
    "    def from_runs(cls, runs:List[langsmith.schemas.Run]):\n",
    "        \"Load LLMDataset from runs.\"\n",
    "        _records=[ChatRecord.from_run(r) for r in runs]\n",
    "        records=[r for r in _records if _records]\n",
    "        return cls(records=records)\n",
    "    \n",
    "    def __len__(self): return len(self.records)\n",
    "    \n",
    "    def save(self, path:str):\n",
    "        \"Save data to disk.\"\n",
    "        dest_path = Path(path)\n",
    "        if not dest_path.parent.exists(): dest_path.parent.mkdir(exist_ok=True)\n",
    "        with open(dest_path, 'wb') as f:\n",
    "            pickle.dump(self, f)\n",
    "            return dest_path\n",
    "        \n",
    "    def __iter__(self): \n",
    "        for r in self.records: \n",
    "            yield r\n",
    "    \n",
    "    @classmethod\n",
    "    def load(cls, path:str):\n",
    "        \"Load data from disk.\"\n",
    "        src_path = Path(path)\n",
    "        with open(src_path, 'rb') as f:\n",
    "            obj = pickle.load(f)\n",
    "            if isinstance(obj, cls):\n",
    "                return obj\n",
    "            else:\n",
    "                raise TypeError(f\"The loaded object is not of type {cls.__name__}\")\n",
    "                \n",
    "    def to_pandas(self):\n",
    "        \"Convert the `LLMDataset` to a pandas.DataFrame.\"\n",
    "        records = L(self.records).map(lambda x: dict(\n",
    "                                                     flat_input=x.flat_input,\n",
    "                                                     flat_output=x.flat_output,\n",
    "                                                     **dict(x)\n",
    "                                                    )\n",
    "                                     )                           \n",
    "        return pd.DataFrame(records)"
   ]
  },
  {
   "cell_type": "code",
   "execution_count": null,
   "id": "26f451f5-ab9a-4e0a-b338-912d941dd5ed",
   "metadata": {},
   "outputs": [
    {
     "name": "stdout",
     "output_type": "stream",
     "text": [
      "Fetching runs with this filter: and(eq(status, \"success\"), has(tags, \"commit:028e4aa4\"))\n"
     ]
    }
   ],
   "source": [
    "from langfree.runs import get_runs_by_commit\n",
    "_runs = get_runs_by_commit(commit_id='028e4aa4')\n",
    "llmdata = ChatRecordSet.from_runs(take(_runs, 10))"
   ]
  },
  {
   "cell_type": "markdown",
   "id": "3d487386-c66d-44ea-b7e9-8dba650aa917",
   "metadata": {},
   "source": [
    "### Convert `LLMDataset` to a Pandas Dataframe\n",
    "\n",
    "You can do this with `to_pandas()`"
   ]
  },
  {
   "cell_type": "code",
   "execution_count": null,
   "id": "05787582-4982-4d7a-8500-cccf283fbc0a",
   "metadata": {},
   "outputs": [
    {
     "data": {
      "text/html": [
       "<div>\n",
       "<style scoped>\n",
       "    .dataframe tbody tr th:only-of-type {\n",
       "        vertical-align: middle;\n",
       "    }\n",
       "\n",
       "    .dataframe tbody tr th {\n",
       "        vertical-align: top;\n",
       "    }\n",
       "\n",
       "    .dataframe thead th {\n",
       "        text-align: right;\n",
       "    }\n",
       "</style>\n",
       "<table border=\"1\" class=\"dataframe\">\n",
       "  <thead>\n",
       "    <tr style=\"text-align: right;\">\n",
       "      <th></th>\n",
       "      <th>flat_input</th>\n",
       "      <th>flat_output</th>\n",
       "      <th>child_run_id</th>\n",
       "      <th>parent_run_id</th>\n",
       "      <th>child_run</th>\n",
       "      <th>url</th>\n",
       "      <th>total_tokens</th>\n",
       "      <th>prompt_tokens</th>\n",
       "      <th>completion_tokens</th>\n",
       "      <th>feedback</th>\n",
       "      <th>...</th>\n",
       "      <th>parent_url</th>\n",
       "      <th>parent_id</th>\n",
       "      <th>function_defs</th>\n",
       "      <th>param_model_name</th>\n",
       "      <th>param_n</th>\n",
       "      <th>param_top_p</th>\n",
       "      <th>param_temp</th>\n",
       "      <th>param_presence_penalty</th>\n",
       "      <th>param_freq_penalty</th>\n",
       "      <th>warnings</th>\n",
       "    </tr>\n",
       "  </thead>\n",
       "  <tbody>\n",
       "    <tr>\n",
       "      <th>0</th>\n",
       "      <td>### System\\n\\nYou are an AI assistant named Re...</td>\n",
       "      <td>### Assistant\\n\\nHere are the contact details ...</td>\n",
       "      <td>ba3c0a47-0803-4b0f-8a2f-380722edc2bf</td>\n",
       "      <td>7074af93-1821-4325-9d45-0f2e81eca0fe</td>\n",
       "      <td>inputs=[{'role': 'system', 'content': 'You are...</td>\n",
       "      <td>https://smith.langchain.com/o/9d90c3d2-ca7e-4c...</td>\n",
       "      <td>NaN</td>\n",
       "      <td>NaN</td>\n",
       "      <td>NaN</td>\n",
       "      <td>[]</td>\n",
       "      <td>...</td>\n",
       "      <td>https://smith.langchain.com/o/9d90c3d2-ca7e-4c...</td>\n",
       "      <td>7074af93-1821-4325-9d45-0f2e81eca0fe</td>\n",
       "      <td>[{'name': 'contact-finder', 'parameters': {'ty...</td>\n",
       "      <td>gpt-3.5-turbo-0613</td>\n",
       "      <td>1</td>\n",
       "      <td>1</td>\n",
       "      <td>0</td>\n",
       "      <td>0</td>\n",
       "      <td>0</td>\n",
       "      <td>[]</td>\n",
       "    </tr>\n",
       "  </tbody>\n",
       "</table>\n",
       "<p>1 rows × 23 columns</p>\n",
       "</div>"
      ],
      "text/plain": [
       "                                          flat_input  \\\n",
       "0  ### System\\n\\nYou are an AI assistant named Re...   \n",
       "\n",
       "                                         flat_output  \\\n",
       "0  ### Assistant\\n\\nHere are the contact details ...   \n",
       "\n",
       "                           child_run_id                         parent_run_id  \\\n",
       "0  ba3c0a47-0803-4b0f-8a2f-380722edc2bf  7074af93-1821-4325-9d45-0f2e81eca0fe   \n",
       "\n",
       "                                           child_run  \\\n",
       "0  inputs=[{'role': 'system', 'content': 'You are...   \n",
       "\n",
       "                                                 url  total_tokens  \\\n",
       "0  https://smith.langchain.com/o/9d90c3d2-ca7e-4c...           NaN   \n",
       "\n",
       "   prompt_tokens  completion_tokens feedback  ...  \\\n",
       "0            NaN                NaN       []  ...   \n",
       "\n",
       "                                          parent_url  \\\n",
       "0  https://smith.langchain.com/o/9d90c3d2-ca7e-4c...   \n",
       "\n",
       "                              parent_id  \\\n",
       "0  7074af93-1821-4325-9d45-0f2e81eca0fe   \n",
       "\n",
       "                                       function_defs    param_model_name  \\\n",
       "0  [{'name': 'contact-finder', 'parameters': {'ty...  gpt-3.5-turbo-0613   \n",
       "\n",
       "  param_n param_top_p param_temp  param_presence_penalty  param_freq_penalty  \\\n",
       "0       1           1          0                       0                   0   \n",
       "\n",
       "   warnings  \n",
       "0        []  \n",
       "\n",
       "[1 rows x 23 columns]"
      ]
     },
     "execution_count": null,
     "metadata": {},
     "output_type": "execute_result"
    }
   ],
   "source": [
    "_df = llmdata.to_pandas()\n",
    "_df.head(1)"
   ]
  },
  {
   "cell_type": "code",
   "execution_count": null,
   "id": "31f80a84-d399-41dc-83f1-a9e01a7823b1",
   "metadata": {},
   "outputs": [],
   "source": [
    "#|hide\n",
    "assert _df.shape[0] == 10"
   ]
  },
  {
   "cell_type": "markdown",
   "id": "088b1760-faa5-42bd-97d9-cb3e4348ed3f",
   "metadata": {},
   "source": [
    "### Save Data"
   ]
  },
  {
   "cell_type": "code",
   "execution_count": null,
   "id": "e06c2214-a08e-4cc4-9188-ec755d1d8b79",
   "metadata": {},
   "outputs": [
    {
     "data": {
      "text/plain": [
       "Path('_data/llm_data.pkl')"
      ]
     },
     "execution_count": null,
     "metadata": {},
     "output_type": "execute_result"
    }
   ],
   "source": [
    "#|eval: false\n",
    "llmdata.save('_data/llm_data.pkl')"
   ]
  },
  {
   "cell_type": "markdown",
   "id": "59dcb976-bb6c-4909-b8b0-0e8099272e81",
   "metadata": {},
   "source": [
    "### Load Data"
   ]
  },
  {
   "cell_type": "code",
   "execution_count": null,
   "id": "1689b521-7f85-406f-9122-618dcae57d50",
   "metadata": {},
   "outputs": [],
   "source": [
    "#|eval: false\n",
    "_loaded = ChatRecordSet.load('_data/llm_data.pkl')\n",
    "assert llmdata.records[0].child_run_id == _loaded.records[0].child_run_id"
   ]
  }
 ],
 "metadata": {
  "kernelspec": {
   "display_name": "python3",
   "language": "python",
   "name": "python3"
  }
 },
 "nbformat": 4,
 "nbformat_minor": 5
}
