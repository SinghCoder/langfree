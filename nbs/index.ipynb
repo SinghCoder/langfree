{
 "cells": [
  {
   "cell_type": "raw",
   "metadata": {},
   "source": [
    "---\n",
    "skip_showdoc: true\n",
    "skip_exec: true\n",
    "---"
   ]
  },
  {
   "cell_type": "markdown",
   "metadata": {},
   "source": [
    "# langfree\n",
    "\n",
    "> Tools for extraction, transformation, and curation of `ChatOpenAI` runs from LangSmith."
   ]
  },
  {
   "cell_type": "markdown",
   "metadata": {},
   "source": [
    "::: {.content-visible when-format=\"markdown\"}\n",
    "[![](https://github.com/parlance-labs/langfree/actions/workflows/test.yaml/badge.svg)](https://github.com/parlance-labs/langfree/actions/workflows/test.yaml)\n",
    "[![Deploy to GitHub Pages](https://github.com/parlance-labs/langfree/actions/workflows/deploy.yaml/badge.svg)](https://github.com/parlance-labs/langfree/actions/workflows/deploy.yaml)\n",
    ":::"
   ]
  },
  {
   "cell_type": "markdown",
   "metadata": {},
   "source": [
    "`langfree` helps you extract, transform and curate [ChatOpenAI](https://api.python.langchain.com/en/latest/chat_models/langchain.chat_models.openai.ChatOpenAI.html) runs from [traces](https://js.langchain.com/docs/modules/agents/how_to/logging_and_tracing) stored in [LangSmith](https://www.langchain.com/langsmith), which can be used for fine-tuning and evaluation.\n",
    "\n",
    ":::{.content-visible when-format=\"html\"}\n",
    "![](langfree.png)\n",
    ":::\n",
    "\n",
    ":::{.content-visible when-format=\"markdown\"}\n",
    "![](https://github.com/parlance-labs/langfree/assets/1483922/0e37d5a4-1ffb-4661-85ba-7c9eb80dd06b)\n",
    ":::"
   ]
  },
  {
   "cell_type": "markdown",
   "metadata": {},
   "source": [
    "### Motivation\n",
    "\n",
    "Langchain has native [tracing support](https://blog.langchain.dev/tracing/) that allows you to log runs.  This data is a valuable resource for fine-tuning and evaluation.  [LangSmith](https://docs.smith.langchain.com/) is a commercial application that facilitates some of these tasks.\n",
    "\n",
    "However, LangSmith may not suit everyone's needs.  It is often desirable to buid your own data inspection and curation infrastructure:\n",
    "\n",
    "> One pattern I noticed is that great AI researchers are willing to manually inspect lots of data. And more than that, **they build infrastructure that allows them to manually inspect data quickly.** Though not glamorous, manually examining data gives valuable intuitions about the problem.  The canonical example here is Andrej Karpathy doing the ImageNet 2000-way classification task himself.\n",
    "> \n",
    ">  -- [Jason Wei, AI Researcher at OpenAI](https://x.com/_jasonwei/status/1708921475829481683?s=20)\n",
    "\n",
    "`langfree` helps you export data from LangSmith and build data curation tools. By building you own data curation tools, so you can add features you need like:\n",
    "\n",
    "- connectivity to data sources beyond LangSmith.\n",
    "- customized data transformations of runs.\n",
    "- ability to route, tag and annotate data in special ways.\n",
    "- ... etc.\n",
    "\n",
    "Furthermore,`langfree` provides a handful of [Shiny for Python](04_shiny.ipynb) components ease the process of creating data curation applications."
   ]
  },
  {
   "cell_type": "markdown",
   "metadata": {},
   "source": [
    "## Install"
   ]
  },
  {
   "cell_type": "markdown",
   "metadata": {},
   "source": [
    "```sh\n",
    "pip install langfree\n",
    "```"
   ]
  },
  {
   "cell_type": "markdown",
   "metadata": {},
   "source": [
    "## How to use\n",
    "\n",
    ":::{.content-visible when-format=\"markdown\"}\n",
    "\n",
    "See the [docs site](http://langfree.parlance-labs.com/).\n",
    "\n",
    ":::"
   ]
  },
  {
   "cell_type": "markdown",
   "metadata": {},
   "source": [
    "### Get runs from LangSmith\n",
    "\n",
    "The [runs](01_runs.ipynb) module contains some utilities to quickly get runs.  We can get the recent runs from langsmith like so:"
   ]
  },
  {
   "cell_type": "code",
   "execution_count": null,
   "metadata": {},
   "outputs": [],
   "source": [
    "#|hide\n",
    "import sys, os\n",
    "from langfree.runs import _temp_env_var\n",
    "tmp_env = ({'LANGCHAIN_API_KEY': os.environ['LANGCHAIN_API_KEY_PUB'],\n",
    "            'LANGSMITH_PROJECT_ID':'2a9996a3-f2d2-4c96-9bea-31a926c18b55'})"
   ]
  },
  {
   "cell_type": "code",
   "execution_count": null,
   "metadata": {},
   "outputs": [
    {
     "name": "stdout",
     "output_type": "stream",
     "text": [
      "Fetching runs with this filter: and(eq(status, \"success\"), gte(start_time, \"11/03/2023\"), lte(start_time, \"11/07/2023\"))\n"
     ]
    }
   ],
   "source": [
    "from langfree.runs import get_recent_runs\n",
    "runs = get_recent_runs(last_n_days=3, limit=5)"
   ]
  },
  {
   "cell_type": "code",
   "execution_count": null,
   "metadata": {},
   "outputs": [
    {
     "name": "stdout",
     "output_type": "stream",
     "text": [
      "Fetching runs with this filter: and(eq(status, \"success\"), gte(start_time, \"04/20/2019\"), lte(start_time, \"09/07/2023\"))\n"
     ]
    }
   ],
   "source": [
    "#|hide\n",
    "with _temp_env_var(tmp_env): runs = get_recent_runs(last_n_days=1600, limit=5)"
   ]
  },
  {
   "cell_type": "code",
   "execution_count": null,
   "metadata": {},
   "outputs": [
    {
     "name": "stdout",
     "output_type": "stream",
     "text": [
      "Fetched 5 runs\n"
     ]
    }
   ],
   "source": [
    "print(f'Fetched {len(list(runs))} runs')"
   ]
  },
  {
   "cell_type": "markdown",
   "metadata": {},
   "source": [
    "There are other utlities like `get_runs_by_commit` if you are tagging runs by commit SHA.  You can also use the [langsmith sdk](https://docs.smith.langchain.com/) to get runs."
   ]
  },
  {
   "cell_type": "markdown",
   "metadata": {},
   "source": [
    "### Parse The Data\n",
    "\n",
    "`ChatRecordSet` parses the LangChain run in the following ways:\n",
    "\n",
    "- finds the last child run that calls the language model (`ChatOpenAI`) in the chain where the run resides.  You are often interested in the last call to the language model in the chain when curating data for fine tuning.\n",
    "- extracts the inputs, outputs and function definitions that are sent to the language model.\n",
    "- extracts other metadata that influences the run, such as the model version and parameters."
   ]
  },
  {
   "cell_type": "markdown",
   "metadata": {},
   "source": [
    "```python\n",
    "from langfree.chatrecord import ChatRecordSet\n",
    "llm_data = ChatRecordSet.from_runs(runs)\n",
    "```"
   ]
  },
  {
   "cell_type": "code",
   "execution_count": null,
   "metadata": {},
   "outputs": [],
   "source": [
    "#|hide\n",
    "with _temp_env_var(tmp_env): \n",
    "    from langfree.chatrecord import ChatRecordSet\n",
    "    llm_data = ChatRecordSet.from_runs(runs)"
   ]
  },
  {
   "cell_type": "markdown",
   "metadata": {},
   "source": [
    "Inspect Data"
   ]
  },
  {
   "cell_type": "code",
   "execution_count": null,
   "metadata": {},
   "outputs": [
    {
     "data": {
      "text/plain": [
       "{'role': 'system',\n",
       " 'content': \"You are a helpful documentation Q&A assistant, trained to answer questions from LangSmith's documentation. LangChain is a framework for building applications using large language models.\\nThe current time is 2023-09-05 16:49:07.308007.\\n\\nRelevant documents will be retrieved in the following messages.\"}"
      ]
     },
     "execution_count": null,
     "metadata": {},
     "output_type": "execute_result"
    }
   ],
   "source": [
    "llm_data[0].child_run.inputs[0]"
   ]
  },
  {
   "cell_type": "code",
   "execution_count": null,
   "metadata": {},
   "outputs": [
    {
     "data": {
      "text/plain": [
       "{'role': 'assistant',\n",
       " 'content': \"Currently, LangSmith does not support project migration between organizations. However, you can manually imitate this process by reading and writing runs and datasets using the SDK. Here's an example of exporting runs:\\n\\n1. Read the runs from the source organization using the SDK.\\n2. Write the runs to the destination organization using the SDK.\\n\\nBy following this process, you can transfer your runs from one organization to another. However, it may be faster to create a new project within your destination organization and start fresh.\\n\\nIf you have any further questions or need assistance, please reach out to us at support@langchain.dev.\"}"
      ]
     },
     "execution_count": null,
     "metadata": {},
     "output_type": "execute_result"
    }
   ],
   "source": [
    "llm_data[0].child_run.output"
   ]
  },
  {
   "cell_type": "markdown",
   "metadata": {},
   "source": [
    "You can also see a flattened version of the input and the output"
   ]
  },
  {
   "cell_type": "code",
   "execution_count": null,
   "metadata": {},
   "outputs": [
    {
     "name": "stdout",
     "output_type": "stream",
     "text": [
      "### System\n",
      "\n",
      "You are a helpful documentation Q&A assistant, trained to answer questions from LangSmith's documentation. LangChain is a framework for building applications using large language models.\n",
      "T\n"
     ]
    }
   ],
   "source": [
    "print(llm_data[0].flat_input[:200])"
   ]
  },
  {
   "cell_type": "code",
   "execution_count": null,
   "metadata": {},
   "outputs": [
    {
     "name": "stdout",
     "output_type": "stream",
     "text": [
      "### Assistant\n",
      "\n",
      "Currently, LangSmith does not support project migration between organizations. However, you can manually imitate this process by reading and writing runs and datasets using the SDK. Her\n"
     ]
    }
   ],
   "source": [
    "print(llm_data[0].flat_output[:200])"
   ]
  },
  {
   "cell_type": "markdown",
   "metadata": {},
   "source": [
    "### Transform The Data\n",
    "\n",
    "Perform data augmentation by rephrasing the first human input.  Here is the first human input before data augmentation:"
   ]
  },
  {
   "cell_type": "code",
   "execution_count": null,
   "metadata": {},
   "outputs": [
    {
     "data": {
      "text/plain": [
       "[{'role': 'user',\n",
       "  'content': 'How do I move my project between organizations?'}]"
      ]
     },
     "execution_count": null,
     "metadata": {},
     "output_type": "execute_result"
    }
   ],
   "source": [
    "run = llm_data[0].child_run\n",
    "[x for x in run.inputs if x['role'] == 'user']"
   ]
  },
  {
   "cell_type": "markdown",
   "metadata": {},
   "source": [
    "Update the inputs:"
   ]
  },
  {
   "cell_type": "code",
   "execution_count": null,
   "metadata": {},
   "outputs": [
    {
     "name": "stdout",
     "output_type": "stream",
     "text": [
      "rephrased input as: How can I transfer my project from one organization to another?\n"
     ]
    }
   ],
   "source": [
    "from langfree.transform import reword_input\n",
    "run.inputs = reword_input(run.inputs)"
   ]
  },
  {
   "cell_type": "markdown",
   "metadata": {},
   "source": [
    "Check that the inputs are updated correctly:"
   ]
  },
  {
   "cell_type": "code",
   "execution_count": null,
   "metadata": {},
   "outputs": [
    {
     "data": {
      "text/plain": [
       "[{'role': 'user',\n",
       "  'content': 'How can I transfer my project from one organization to another?'}]"
      ]
     },
     "execution_count": null,
     "metadata": {},
     "output_type": "execute_result"
    }
   ],
   "source": [
    "[x for x in run.inputs if x['role'] == 'user']"
   ]
  },
  {
   "cell_type": "markdown",
   "metadata": {},
   "source": [
    "You can also call `.to_dicts()` to convert `llm_data` to a list of dicts that can be converted to jsonl for fine-tuning OpenAI models."
   ]
  },
  {
   "cell_type": "code",
   "execution_count": null,
   "metadata": {},
   "outputs": [
    {
     "name": "stdout",
     "output_type": "stream",
     "text": [
      "dict_keys(['functions', 'messages']) 5\n"
     ]
    }
   ],
   "source": [
    "llm_dicts = llm_data.to_dicts()\n",
    "print(llm_dicts[0].keys(), len(llm_dicts))"
   ]
  },
  {
   "cell_type": "markdown",
   "metadata": {},
   "source": [
    "You can use `write_to_jsonl` and `validate_jsonl` to help write this data to `.jsonl` and validate it."
   ]
  },
  {
   "cell_type": "markdown",
   "metadata": {},
   "source": [
    "## Build & Customize Tools For Curating LLM Data"
   ]
  },
  {
   "cell_type": "markdown",
   "metadata": {},
   "source": [
    "The previous steps showed you how to collect and transform your data from LangChain runs. Next, you can feed this data into a tool to help you curate this data for fine tuning.\n",
    "\n",
    "To learn how to run and customize this kind of tool, [read the tutorial](tutorials/shiny.ipynb).  `langfree` can help you quickly build something that looks like this:"
   ]
  },
  {
   "cell_type": "markdown",
   "metadata": {},
   "source": [
    ":::{.content-visible when-format=\"html\"}\n",
    "![](tutorials/screenshot.png)\n",
    ":::\n",
    "\n",
    ":::{.content-visible when-format=\"markdown\"}\n",
    "![](https://github.com/parlance-labs/langfree/assets/1483922/57d98336-d43f-432b-a730-e41261168cb2)\n",
    ":::"
   ]
  },
  {
   "cell_type": "markdown",
   "metadata": {},
   "source": [
    ":::{.content-visible when-format=\"markdown\"}\n",
    "\n",
    "## Documentation\n",
    "\n",
    "See the [docs site](http://langfree.parlance-labs.com/).\n",
    "\n",
    ":::"
   ]
  },
  {
   "cell_type": "markdown",
   "metadata": {},
   "source": [
    "## FAQ\n",
    "\n",
    "1. **We don't use LangChain. Can we still use something from this library?** No, not directly.  However, we recommend looking at how the [Shiny for Python App works](tutorials/shiny.ipynb) so you can adapt it towards your own use cases.\n",
    "\n",
    "2. **Why did you use [Shiny For Python](https://shiny.posit.co/py/)?** Python has many great front-end libraries like Gradio, Streamlit, Panel and others.  However, we liked Shiny For Python the best, because of its reactive model, modularity, strong integration with [Quarto](https://quarto.org/), and [WASM support](https://shiny.posit.co/py/docs/shinylive.html).  You can read more about it [here](https://shiny.posit.co/py/docs/overview.html).\n",
    "\n",
    "3. **Does this only work with runs from LangChain/LangSmith?**  Yes, `langfree` has only been tested with `LangChain` runs that have been logged to`LangSmith`, however we suspect that you could log your traces elsewhere and pull them in a similar manner.\n",
    "\n",
    "4. **Does this only work with [`ChatOpenAI`](https://api.python.langchain.com/en/latest/chat_models/langchain.chat_models.openai.ChatOpenAI.html) runs?** A: Yes, `langfree` is opinionated and only works with runs that use chat models from OpenAI (which use [`ChatOpenAI`](https://api.python.langchain.com/en/latest/chat_models/langchain.chat_models.openai.ChatOpenAI.html) in LangChain).  We didn't want to over-generalize this tool too quickly and started with the most popular combination of things.\n",
    "\n",
    "5. **Do you offer support?**: These tools are free and licensed under [Apache 2.0](https://github.com/parlance-labs/langfree/blob/main/LICENSE). If you want support or customization, feel free to [reach out to us](https://parlance-labs.com/).\n"
   ]
  },
  {
   "cell_type": "markdown",
   "metadata": {},
   "source": [
    "## Contributing"
   ]
  },
  {
   "cell_type": "markdown",
   "metadata": {},
   "source": [
    "This library was created with [nbdev](https://nbdev.fast.ai/).  See [Contributing.md](https://github.com/parlance-labs/langfree/blob/main/CONTRIBUTING.md) for further guidelines."
   ]
  },
  {
   "cell_type": "code",
   "execution_count": null,
   "metadata": {},
   "outputs": [],
   "source": []
  }
 ],
 "metadata": {
  "kernelspec": {
   "display_name": "python3",
   "language": "python",
   "name": "python3"
  }
 },
 "nbformat": 4,
 "nbformat_minor": 4
}
