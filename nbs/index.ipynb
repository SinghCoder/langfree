{
 "cells": [
  {
   "cell_type": "markdown",
   "metadata": {},
   "source": [
    "# langfree\n",
    "\n",
    "> Utilities to help you work with ChatOpenAI LLM traces outside of LangSmith."
   ]
  },
  {
   "cell_type": "markdown",
   "metadata": {},
   "source": [
    "::: {.content-visible when-format=\"markdown\"}\n",
    "[![](https://github.com/parlance-labs/langfree/actions/workflows/test.yaml/badge.svg)](https://github.com/parlance-labs/langfree/actions/workflows/test.yaml)\n",
    "[![Deploy to GitHub Pages](https://github.com/parlance-labs/langfree/actions/workflows/deploy.yaml/badge.svg)](https://github.com/parlance-labs/langfree/actions/workflows/deploy.yaml)\n",
    ":::"
   ]
  },
  {
   "cell_type": "markdown",
   "metadata": {},
   "source": [
    "Utilities that help you extract, transform and curate [ChatOpenAI](https://api.python.langchain.com/en/latest/chat_models/langchain.chat_models.openai.ChatOpenAI.html) runs from [traces](https://js.langchain.com/docs/modules/agents/how_to/logging_and_tracing) stored in [LangSmith](https://www.langchain.com/langsmith).  The goal is to facilitate using data from these runs for fine-tuning / instruction-tuning models.\n",
    "\n",
    ":::{.content-visible when-format=\"html\"}\n",
    "![](langfree.png)\n",
    ":::\n",
    "\n",
    ":::{.content-visible when-format=\"markdown\"}\n",
    "![](https://github.com/parlance-labs/langfree/assets/1483922/0e37d5a4-1ffb-4661-85ba-7c9eb80dd06b)\n",
    ":::"
   ]
  },
  {
   "cell_type": "markdown",
   "metadata": {},
   "source": [
    "### Motivation\n",
    "\n",
    "Langchain has native [tracing support](https://blog.langchain.dev/tracing/) that allows you to log LangChain runs.  This data is a valuable resource for fine-tuning and evaluation.  [LangSmith](https://docs.smith.langchain.com/) is a commercial application that facilitates some of these tasks.\n",
    "\n",
    "However, LangSmith may not work for everyone's needs.  It is often desirable to buid your own data inspection and curation infrastructure so you can add your own features.\n",
    "\n",
    "> One pattern I noticed is that great AI researchers are willing to manually inspect lots of data. And more than that, **they build infrastructure that allows them to manually inspect data quickly.** Though not glamorous, manually examining data gives valuable intuitions about the problem.  The canonical example here is Andrej Karpathy doing the ImageNet 2000-way classification task himself.\n",
    "> \n",
    ">  -- [Jason Wei, AI Researcher at OpenAI](https://x.com/_jasonwei/status/1708921475829481683?s=20)\n",
    "\n",
    "`langfree` helps you export data from LangSmith and build data curation web applications.  The goal is to empower the AI engineer to quickly build their own data curation tools, so they can add features like:\n",
    "\n",
    "- connectivity to additionaly data sources beyond LangSmith.\n",
    "- data transformations of runs using code\n",
    "- ability to route, tag and annotate data in custom ways\n",
    "- ... etc.\n",
    "\n",
    "Furthermore,`langchain` provides a handful of [Shiny for Python](https://shiny.posit.co/py/) components to make the process of creating data curation applications easier."
   ]
  },
  {
   "cell_type": "markdown",
   "metadata": {},
   "source": [
    "## Install"
   ]
  },
  {
   "cell_type": "markdown",
   "metadata": {},
   "source": [
    "```sh\n",
    "pip install langfree\n",
    "```"
   ]
  },
  {
   "cell_type": "markdown",
   "metadata": {},
   "source": [
    "## How to use"
   ]
  },
  {
   "cell_type": "markdown",
   "metadata": {},
   "source": [
    "Coming soon"
   ]
  },
  {
   "cell_type": "markdown",
   "metadata": {},
   "source": [
    "## Documentation"
   ]
  },
  {
   "cell_type": "markdown",
   "metadata": {},
   "source": [
    "See the [docs site](http://langfree.parlance-labs.com/)."
   ]
  },
  {
   "cell_type": "markdown",
   "metadata": {},
   "source": [
    "## Contributing"
   ]
  },
  {
   "cell_type": "markdown",
   "metadata": {},
   "source": [
    "This library was created with [nbdev](https://nbdev.fast.ai/).  See [Contributing.md](https://github.com/parlance-labs/langfree/blob/main/CONTRIBUTING.md) for further guidelines."
   ]
  },
  {
   "cell_type": "code",
   "execution_count": null,
   "metadata": {},
   "outputs": [],
   "source": []
  }
 ],
 "metadata": {
  "kernelspec": {
   "display_name": "python3",
   "language": "python",
   "name": "python3"
  }
 },
 "nbformat": 4,
 "nbformat_minor": 4
}
