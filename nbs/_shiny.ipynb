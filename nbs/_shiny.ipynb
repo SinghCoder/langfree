{
 "cells": [
  {
   "cell_type": "markdown",
   "id": "faff8878-d80b-4141-92b2-d64edd99ab24",
   "metadata": {},
   "source": [
    "# shiny\n",
    "> components for Shiny"
   ]
  },
  {
   "cell_type": "markdown",
   "id": "13d11348-e5b6-4221-98ce-1d25d220a9a5",
   "metadata": {},
   "source": [
    "[Shiny for Python](https://shiny.posit.co/py/) is a really great front end framework that allows you to quickly build simple applications.  It's perfect for customizing your own data annotation and review app for LLMs."
   ]
  },
  {
   "cell_type": "code",
   "execution_count": null,
   "id": "f4acf498",
   "metadata": {},
   "outputs": [],
   "source": [
    "_run = RunData.from_run_id('59080971-8786-4849-be88-898d3ffc2b45')\n",
    "# _component = input_chat(\"input_chat\", _run)\n",
    "# assert len(_component.children) == len(_run.inputs)"
   ]
  },
  {
   "cell_type": "code",
   "execution_count": null,
   "id": "db07ad72",
   "metadata": {},
   "outputs": [
    {
     "data": {
      "text/plain": [
       "{'role': 'assistant',\n",
       " 'content': '```\\n[{\"id\":\"ea5e005d-5f87-4c7e-b679-93be2f835df0\",\"type\":\"email_campaign\",\"subject\":\"Check out this amazing property in Dallas, TX!\",\"due_at\":null,\"executed_at\":null,\"opened\":0,\"clicked\":0,\"unsubscribed\":0,\"tags\":null,\"recipients_count\":null,\"text\":\"Dear recipient, I wanted to share with you an amazing property located at 2430 Victory Park Lane in Dallas, TX. This property\\\\nfeatures [insert property details here]. If you\\'re interested in learning more about this property or scheduling a viewing, please\\\\ndon\\'t hesitate to contact me. Best regards, [Your Name]\"}]\\n```\\nNo search results.'}"
      ]
     },
     "execution_count": null,
     "metadata": {},
     "output_type": "execute_result"
    }
   ],
   "source": [
    "_run.output"
   ]
  },
  {
   "cell_type": "code",
   "execution_count": null,
   "id": "488ec58b",
   "metadata": {},
   "outputs": [],
   "source": []
  }
 ],
 "metadata": {
  "kernelspec": {
   "display_name": "python3",
   "language": "python",
   "name": "python3"
  }
 },
 "nbformat": 4,
 "nbformat_minor": 5
}
