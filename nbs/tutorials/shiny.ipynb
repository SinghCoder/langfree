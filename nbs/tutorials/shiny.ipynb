{
 "cells": [
  {
   "cell_type": "markdown",
   "id": "376dfa7e-5578-418e-b07f-a46b07a8ef05",
   "metadata": {},
   "source": [
    "# Build a Shiny App To Review LLM Data"
   ]
  },
  {
   "cell_type": "markdown",
   "id": "5083a7db-e773-48eb-aaed-41f321d27eb3",
   "metadata": {},
   "source": [
    "> How to use `langfree` to build an app you can use to review LLM data."
   ]
  },
  {
   "cell_type": "markdown",
   "id": "7941b249-8947-4497-b1e3-cd60fe9d6418",
   "metadata": {},
   "source": [
    "The motivation for building your own review app is discussed on [the homepage](../#Motivation).  This tutorial walks you through how you can build a minimal app desiged for a single user without authentication.\n",
    "\n",
    "### Prerequisites\n",
    "\n",
    "- Runs logged to LangSmith that contain `ChatOpenAI` child runs.\n",
    "- Set the `LANGCHAIN_API_KEY`, `LANGSMITH_PROJECT_ID` and `LANGCHAIN_ENDPOINT` environment variables as [described here](https://docs.smith.langchain.com/).\n",
    "- Install langfree: `pip install langfree`\n",
    "- Clone this repo: `git clone https://github.com/parlance-labs/langfree.git`\n",
    "\n",
    "### 1. Pull Data From Langsmith\n",
    "\n",
    "First, we will pull data from LangSmith.  There are many ways to do this, including using the `langsmith` client, which we illustrate below.  \n",
    "\n",
    "We will pull four specific run ids, parse the data and save it to a dataframe named `sample_data.pkl` that we will use as our backend \"database\" [^1].  We initialize all records to have a status of `Pending`.\n",
    "\n",
    "[^1]: We recommend using a real database for production applications, but this allows you to get an understanding of how the system works."
   ]
  },
  {
   "cell_type": "code",
   "execution_count": null,
   "id": "0ee5bd65-5915-4eea-8919-3d6e62b73579",
   "metadata": {},
   "outputs": [],
   "source": [
    "#|hide\n",
    "#|eval: false\n",
    "import os\n",
    "from langfree.chatrecord import ChatRecordSet             \n",
    "from langfree.runs import _temp_env_var\n",
    "from langsmith import Client\n",
    "\n",
    "_tst_run_ids = ['a05e1668-57b4-4e4d-99d9-1f8578ddba5d',\n",
    "                '6b9f6c78-dbef-4352-8e4e-0b1777b59cf0',\n",
    "                'cebad2c1-a00b-43ee-86d0-1d42310e744a',\n",
    "                '2e1e7686-ae4b-45ab-bae0-0fb18749f1d2']\n",
    "\n",
    "tmp_env = ({'LANGCHAIN_API_KEY': os.environ['LANGCHAIN_API_KEY_PUB'],\n",
    "            'LANGSMITH_PROJECT_ID':'2a9996a3-f2d2-4c96-9bea-31a926c18b55'})\n",
    "\n",
    "with _temp_env_var(tmp_env): # sets temporary enviornment variabes for testing.\n",
    "    llm_data=ChatRecordSet.from_run_ids(_tst_run_ids)\n",
    "    llm_data_df = llm_data.to_pandas()\n",
    "    llm_data_df['status'] = 'Pending'\n",
    "    llm_data_df.to_pickle('_data/sample_data.pkl')"
   ]
  },
  {
   "cell_type": "markdown",
   "id": "8c86b14c-226a-4afb-a01a-ed23c60cf31d",
   "metadata": {},
   "source": [
    "```python\n",
    "from langsmith import Client                               # <1>\n",
    "from langfree.chatrecord import ChatRecordSet              # <2>\n",
    "\n",
    "# Change these run IDs to your runs\n",
    "run_ids = ['a05e1668-57b4-4e4d-99d9-1f8578ddba5d',         # <3>\n",
    "           '6b9f6c78-dbef-4352-8e4e-0b1777b59cf0',         # <3>\n",
    "           'cebad2c1-a00b-43ee-86d0-1d42310e744a',         # <3>\n",
    "           '2e1e7686-ae4b-45ab-bae0-0fb18749f1d2']         # <3>\n",
    "\n",
    "llm_data=ChatRecordSet.from_run_ids(run_ids)               # <4>\n",
    "llm_data_df = llm_data.to_pandas()                         # <5>\n",
    "llm_data_df['status'] = 'Pending'                          # <6>\n",
    "llm_data_df.to_pickle('_data/sample_data.pkl')             # <7>\n",
    "```\n",
    "1. The [langsmith](https://github.com/langchain-ai/langsmith-sdk) offers the simplest way to retreive runs.  However, there are additional utilities for retreiving runs provided in [`langfree.runs`](../01_runs.ipynb).\n",
    "2. `ChatRecordSet` allows you to parse and extract key information from your langchain [ChatOpenAI](https://api.python.langchain.com/en/latest/chat_models/langchain.chat_models.openai.ChatOpenAI.html) runs.\n",
    "3. These are the run ids that we will pull from langsmith.  You will have to pull your own run ids.  Make sure that your runs have at least one child that is of type `ChatOpenAI` for this to work. \n",
    "4. `ChatRecordSet.from_run_ids` allows you to fetch and parse this data froma list of run ids.\n",
    "5. `ChatRecordSet.to_pandas` allows you to convert this data into a pandas DataFrame\n",
    "6. The status of each record is initialized to `Pending` which will changed by the front end app depending on user actions.\n",
    "7. Finally, we save the data to `_data/sample_data.pkl` which will be read by the front end application."
   ]
  },
  {
   "cell_type": "markdown",
   "id": "c9bb9c17-5af4-4857-a215-7dca08a4f121",
   "metadata": {},
   "source": [
    "### 2. Run the Shiny App Locally\n",
    "\n",
    "Assuming you have completed the [Prerequisites](#prerequisites), go to the `nbs/tutorials/` folder from the root of the `langfree` repo you cloned locally. \n",
    "\n",
    "Execute Shiny by running:\n",
    "\n",
    "```\n",
    "shiny run app.py --reload\n",
    "```"
   ]
  },
  {
   "cell_type": "markdown",
   "id": "22968acd-1787-4310-a81a-0f8f3a4247ab",
   "metadata": {},
   "source": [
    "![](langfree.png)"
   ]
  },
  {
   "cell_type": "markdown",
   "id": "1a1a0e17-5339-4413-81d1-bec361f95166",
   "metadata": {},
   "source": [
    "### 3. Read The Code & Modify It\n",
    "\n",
    "The web application defined in [app.py](https://github.com/parlance-labs/langfree/blob/main/nbs/tutorials/app.py) is around 150 lines of code, in python.  This means you can easily hack it suit your own needs!  Some resources that are helpful in understanding Shiny and this code:\n",
    "\n",
    "- Do the excercises on Gordon Shotwell's [Shiny for Python Tutorial](https://posit-dev.github.io/shiny-python-workshop-2023/)\n",
    "- Read the [Shiny for Python documentation](https://shiny.posit.co/py/docs/overview.html).\n",
    "\n",
    "#### Suggested modifications:\n",
    "\n",
    "- Add more information to the side panel.\n",
    "- Connect to a remote backend database (instead of the DataFrame) using [reactive.poll](https://shiny.posit.co/py/api/reactive.poll.html) or [reactive.file_reader](https://shiny.posit.co/py/api/reactive.file_reader.html).\n",
    "- Advanced: adapt the hotkeys from this [Wordle example](https://shinylive.io/py/examples/#wordle) so that they work these buttons.\n",
    "\n",
    "### 4. Deploy\n",
    "\n",
    "Deploying this application is beyond the scope of this tutorial. However, there are detailed guides for [cloud hosting](https://shiny.posit.co/py/docs/deploy-cloud.html) and [self hosted deployments](https://shiny.posit.co/py/docs/deploy-on-prem.html) for Shiny apps."
   ]
  },
  {
   "cell_type": "code",
   "execution_count": null,
   "id": "a415a421-5125-4586-9f92-4c511650a76a",
   "metadata": {},
   "outputs": [],
   "source": []
  }
 ],
 "metadata": {
  "kernelspec": {
   "display_name": "python3",
   "language": "python",
   "name": "python3"
  }
 },
 "nbformat": 4,
 "nbformat_minor": 5
}
