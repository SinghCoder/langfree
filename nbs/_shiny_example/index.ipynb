{
 "cells": [
  {
   "cell_type": "markdown",
   "id": "376dfa7e-5578-418e-b07f-a46b07a8ef05",
   "metadata": {},
   "source": [
    "# Sample Shiny App"
   ]
  },
  {
   "cell_type": "markdown",
   "id": "e0ab45ff-6dec-4e1d-ac5d-8b167961fc4d",
   "metadata": {},
   "source": [
    "### Generate sample data"
   ]
  },
  {
   "cell_type": "code",
   "execution_count": null,
   "id": "0ee5bd65-5915-4eea-8919-3d6e62b73579",
   "metadata": {},
   "outputs": [],
   "source": [
    "import os\n",
    "from langfree.experimental import ChatRecordSet\n",
    "from langfree.runs import _temp_env_var\n",
    "from langsmith import Client\n",
    "\n",
    "_tst_run_ids = ['a05e1668-57b4-4e4d-99d9-1f8578ddba5d',\n",
    "                '6b9f6c78-dbef-4352-8e4e-0b1777b59cf0',\n",
    "                'cebad2c1-a00b-43ee-86d0-1d42310e744a',\n",
    "                '2e1e7686-ae4b-45ab-bae0-0fb18749f1d2']\n",
    "\n",
    "tmp_env = ({'LANGCHAIN_API_KEY': os.environ['LANGCHAIN_API_KEY_PUB'],\n",
    "            'LANGSMITH_PROJECT_ID':'2a9996a3-f2d2-4c96-9bea-31a926c18b55'})\n",
    "\n",
    "with _temp_env_var(tmp_env):\n",
    "    llm_data=ChatRecordSet.from_run_ids(_tst_run_ids)\n",
    "    llm_data_df = llm_data.to_pandas()\n",
    "    llm_data_df['status'] = 'Pending'\n",
    "    llm_data_df.to_pickle('_data/sample_data.pkl')"
   ]
  },
  {
   "cell_type": "code",
   "execution_count": null,
   "id": "a43774b8-b5b7-443a-959d-2fdd792c37c0",
   "metadata": {},
   "outputs": [
    {
     "data": {
      "text/plain": [
       "'Pending'"
      ]
     },
     "execution_count": null,
     "metadata": {},
     "output_type": "execute_result"
    }
   ],
   "source": [
    "llm_data_df.loc[0].status"
   ]
  },
  {
   "cell_type": "code",
   "execution_count": null,
   "id": "9a7728e4-3f31-464e-b917-69ae2934be64",
   "metadata": {},
   "outputs": [
    {
     "name": "stderr",
     "output_type": "stream",
     "text": [
      "/var/folders/hz/fg03h5c13x96l0g9420_qvlm0000gn/T/ipykernel_19425/1300247598.py:1: SettingWithCopyWarning: \n",
      "A value is trying to be set on a copy of a slice from a DataFrame\n",
      "\n",
      "See the caveats in the documentation: https://pandas.pydata.org/pandas-docs/stable/user_guide/indexing.html#returning-a-view-versus-a-copy\n",
      "  llm_data_df.loc[0].loc['status'] = 'Accepted'\n"
     ]
    }
   ],
   "source": [
    "llm_data_df.loc[0].loc['status'] = 'Accepted'"
   ]
  },
  {
   "cell_type": "code",
   "execution_count": null,
   "id": "b34f55d8-984f-446d-9697-da86ad0495b9",
   "metadata": {},
   "outputs": [],
   "source": []
  }
 ],
 "metadata": {
  "kernelspec": {
   "display_name": "python3",
   "language": "python",
   "name": "python3"
  }
 },
 "nbformat": 4,
 "nbformat_minor": 5
}
